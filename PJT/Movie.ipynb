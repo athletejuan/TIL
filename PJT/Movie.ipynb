{
 "cells": [
  {
   "cell_type": "code",
   "execution_count": 5,
   "metadata": {},
   "outputs": [
    {
     "name": "stdout",
     "output_type": "stream",
     "text": [
      "{\"boxOfficeResult\":{\"boxofficeType\":\"주말 박스오피스\",\"weeklyBoxOfficeList\":[]}}\n"
     ]
    }
   ],
   "source": [
    "import requests\n",
    "from decouple import config\n",
    "from datetime import datetime\n",
    "from pprint import pprint\n",
    "\n",
    "API_Key = config('Movie_Key')\n",
    "targetDt = datetime.today().strftime('%Y%m%d')\n",
    "# targetDt = 20190718\n",
    "# print(targetDt)\n",
    "base = 'http://www.kobis.or.kr/kobisopenapi/webservice/rest/boxoffice/searchWeeklyBoxOfficeList.json'\n",
    "\n",
    "url = f'{base}?key={API_Key}&targetDt={targetDt}'\n",
    "\n",
    "res = requests.get(url).text\n",
    "\n",
    "print(res)"
   ]
  },
  {
   "cell_type": "code",
   "execution_count": 1,
   "metadata": {},
   "outputs": [
    {
     "name": "stdout",
     "output_type": "stream",
     "text": [
      "Hello\n",
      "waiting for 2secs\n"
     ]
    }
   ],
   "source": [
    "import time\n",
    "\n",
    "print('Hello')\n",
    "\n",
    "time.sleep(2)\n",
    "\n",
    "print('waiting for 2secs')"
   ]
  },
  {
   "cell_type": "code",
   "execution_count": null,
   "metadata": {},
   "outputs": [],
   "source": []
  }
 ],
 "metadata": {
  "kernelspec": {
   "display_name": "Python 3",
   "language": "python",
   "name": "python3"
  },
  "language_info": {
   "codemirror_mode": {
    "name": "ipython",
    "version": 3
   },
   "file_extension": ".py",
   "mimetype": "text/x-python",
   "name": "python",
   "nbconvert_exporter": "python",
   "pygments_lexer": "ipython3",
   "version": "3.7.4"
  }
 },
 "nbformat": 4,
 "nbformat_minor": 2
}
