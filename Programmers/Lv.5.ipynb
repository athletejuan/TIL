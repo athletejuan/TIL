{
 "cells": [
  {
   "cell_type": "markdown",
   "metadata": {},
   "source": [
    "# Programmers codingtest Lv.5"
   ]
  },
  {
   "cell_type": "markdown",
   "metadata": {},
   "source": [
    "## 실패율을 구하는 코드를 완성하라.\n",
    "\n",
    "실패율은 다음과 같이 정의한다.\n",
    "스테이지에 도달했으나 아직 클리어하지 못한 플레이어의 수 / 스테이지에 도달한 플레이어 수\n",
    "전체 스테이지의 개수 N, 게임을 이용하는 사용자가 현재 멈춰있는 스테이지의 번호가 담긴 배열 stages가 매개변수로 주어질 때, 실패율이 높은 스테이지부터 내림차순으로 스테이지의 번호가 담겨있는 배열을 return 하도록 solution 함수를 완성하라.\n",
    "\n",
    "제한사항\n",
    "* 스테이지의 개수 N은 1 이상 500 이하의 자연수이다.\n",
    "* stages의 길이는 1 이상 200,000 이하이다.\n",
    "* stages에는 1 이상 N + 1 이하의 자연수가 담겨있다.\n",
    "* 각 자연수는 사용자가 현재 도전 중인 스테이지의 번호를 나타낸다.\n",
    "* 단, N + 1 은 마지막 스테이지(N 번째 스테이지) 까지 클리어 한 사용자를 나타낸다.\n",
    "* 만약 실패율이 같은 스테이지가 있다면 작은 번호의 스테이지가 먼저 오도록 하면 된다.\n",
    "* 스테이지에 도달한 유저가 없는 경우 해당 스테이지의 실패율은 0 으로 정의한다."
   ]
  },
  {
   "cell_type": "code",
   "execution_count": null,
   "metadata": {},
   "outputs": [],
   "source": [
    "def solution(N, stages):\n",
    "    answer = []    \n",
    "    my_dict = {}\n",
    "    failratio = 0\n",
    "    numstage = int(len(stages))\n",
    "    for i in range(1,N+1):        \n",
    "        if i in stages:\n",
    "            failratio = float(stages.count(i)/numstage)\n",
    "            my_dict[i] = failratio\n",
    "            numstage -= stages.count(i)        \n",
    "        else:            \n",
    "            my_dict[i] = 0\n",
    "    answer = sorted(my_dict, key=lambda k : my_dict[k], reverse=True)\n",
    "    return answer"
   ]
  },
  {
   "cell_type": "markdown",
   "metadata": {},
   "source": [
    "## 비밀지도\n",
    "\n",
    "* 지도는 한 변의 길이가 n인 정사각형 배열 형태로, 각 칸은 공백(\" ) 또는벽(#\") 두 종류로 이루어져 있다.\n",
    "* 전체 지도는 두 장의 지도를 겹쳐서 얻을 수 있다. 각각 지도 1과 지도 2라고 하자. 지도 1 또는 지도 2 중 어느 하나라도 벽인 부분은 전체 지도에서도 벽이다. 지도 1과 지도 2에서 모두 공백인 부분은 전체 지도에서도 공백이다.\n",
    "* 지도 1과 지도 2는 각각 정수 배열로 암호화되어 있다.\n",
    "* 암호화된 배열은 지도의 각 가로줄에서 벽 부분을 1, 공백 부분을 0으로 부호화했을 때 얻어지는 이진수에 해당하는 값의 배열이다."
   ]
  },
  {
   "cell_type": "code",
   "execution_count": null,
   "metadata": {},
   "outputs": [],
   "source": [
    "def solution(n, arr1, arr2):\n",
    "    answer = []    \n",
    "    for i in range(n): \n",
    "        for j in range(n-1, 0, -1):                                              \n",
    "            if arr1[i]//(2**j):\n",
    "                answer.append('1')\n",
    "                arr1[i] -= 2**j\n",
    "            elif arr2[i]//(2**j):\n",
    "                answer.append('1')\n",
    "            else:                \n",
    "                answer.append('0')\n",
    "            \n",
    "    #     if arr1[i] == 0:\n",
    "    #         break\n",
    "    # print(answer)    \n",
    "            a = ''.join(answer)\n",
    "    return a"
   ]
  },
  {
   "cell_type": "code",
   "execution_count": null,
   "metadata": {},
   "outputs": [],
   "source": []
  },
  {
   "cell_type": "code",
   "execution_count": null,
   "metadata": {},
   "outputs": [],
   "source": []
  },
  {
   "cell_type": "code",
   "execution_count": null,
   "metadata": {},
   "outputs": [],
   "source": []
  }
 ],
 "metadata": {
  "kernelspec": {
   "display_name": "Python 3",
   "language": "python",
   "name": "python3"
  },
  "language_info": {
   "codemirror_mode": {
    "name": "ipython",
    "version": 3
   },
   "file_extension": ".py",
   "mimetype": "text/x-python",
   "name": "python",
   "nbconvert_exporter": "python",
   "pygments_lexer": "ipython3",
   "version": "3.7.4"
  }
 },
 "nbformat": 4,
 "nbformat_minor": 2
}
