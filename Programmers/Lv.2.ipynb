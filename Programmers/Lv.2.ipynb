{
 "cells": [
  {
   "cell_type": "markdown",
   "metadata": {},
   "source": [
    "## 124 나라의 숫자\n",
    "\n",
    "1. 124 나라에는 자연수만 존재합니다.\n",
    "2. 124 나라에는 모든 수를 표현할 때 1, 2, 4만 사용합니다."
   ]
  },
  {
   "cell_type": "code",
   "execution_count": null,
   "metadata": {},
   "outputs": [],
   "source": [
    "def solution(n):\n",
    "    answer = ''\n",
    "    num_dict = {1:'1', 2:'2', 0:'4'}\n",
    "    mok = 1\n",
    "    na = 1\n",
    "    \n",
    "    while mok != 0:\n",
    "        mok = n//3\n",
    "        na = n%3\n",
    "        if na == 0:\n",
    "            mok -= 1\n",
    "    \n",
    "    n = mok\n",
    "    answer = num_dict[na] + answer\n",
    "    \n",
    "    return answer\n",
    "\n",
    "print(solution(n))"
   ]
  },
  {
   "cell_type": "markdown",
   "metadata": {},
   "source": [
    "## 프린터\n",
    "\n",
    "1. 인쇄 대기목록의 가장 앞에 있는 문서(J)를 대기목록에서 꺼냅니다.\n",
    "2. 나머지 인쇄 대기목록에서 J보다 중요도가 높은 문서가 한 개라도 존재하면 J를 대기목록의 가장 마지막에 넣습니다.\n",
    "3. 그렇지 않으면 J를 인쇄합니다."
   ]
  },
  {
   "cell_type": "code",
   "execution_count": null,
   "metadata": {},
   "outputs": [],
   "source": [
    "def solution(priorities, location):\n",
    "    answer = 0\n",
    "    # 인쇄 대기목록이 남아있다면 반복\n",
    "    while len(priorities) != 0:\n",
    "        # 1. 대기목록의 가장 앞에있는 문서가 나머지 문서들보다 중요도가 높은 경우\n",
    "        if priorities[0] == max(priorities):\n",
    "            answer += 1\n",
    "            priorities.pop(0) # 먼저 인쇄 == 가장 앞에있는 것 삭제\n",
    "            if location == 0:\n",
    "                return answer\n",
    "            else:\n",
    "                location -= 1\n",
    "        #2. 대기목록의 가장 앞에있는 문서가 중요도가 가장 높지 않은 경우\n",
    "        else :\n",
    "            priorities.append(priorities.pop(0)) #문서를 대기목록 맨 뒤로 이동\n",
    "            if location == 0:\n",
    "                location = len(priorities) - 1\n",
    "            else :\n",
    "                location -= 1\n",
    "    return answer\n",
    "\n",
    "# 좀더 상식적인 프린터\n",
    "# def solution(priorities, location):\n",
    "#     answer = 1\n",
    "#     n = priorities[int(location)]\n",
    "#     resort = sorted(priorities, reverse = True)    \n",
    "#     for i in resort:\n",
    "#         if i != n:\n",
    "#             answer += 1\n",
    "#         else:     \n",
    "#             return answer"
   ]
  },
  {
   "cell_type": "markdown",
   "metadata": {},
   "source": [
    "# 탑\n",
    "\n",
    "* 수평 직선에 탑 N대를 세웠습니다. 모든 탑의 꼭대기에는 신호를 송/수신하는 장치를 설치했습니다. 발사한 신호는 신호를 보낸 탑보다 높은 탑에서만 수신합니다. 또한, 한 번 수신된 신호는 다른 탑으로 송신되지 않습니다.\n",
    "\n",
    "* 예를 들어 높이가 6, 9, 5, 7, 4인 다섯 탑이 왼쪽으로 동시에 레이저 신호를 발사합니다. 그러면, 탑은 다음과 같이 신호를 주고받습니다. 높이가 4인 다섯 번째 탑에서 발사한 신호는 높이가 7인 네 번째 탑이 수신하고, 높이가 7인 네 번째 탑의 신호는 높이가 9인 두 번째 탑이, 높이가 5인 세 번째 탑의 신호도 높이가 9인 두 번째 탑이 수신합니다. 높이가 9인 두 번째 탑과 높이가 6인 첫 번째 탑이 보낸 레이저 신호는 어떤 탑에서도 수신할 수 없습니다."
   ]
  },
  {
   "cell_type": "code",
   "execution_count": null,
   "metadata": {},
   "outputs": [],
   "source": [
    "def solution(heights):\n",
    "    answer = [0]\n",
    "    tmp = []\n",
    "    for i in range(len(heights)-1, 0, -1): # 역순\n",
    "        for j in range(i-1, -1, -1):\n",
    "            if heights[i] < heights[j]:\n",
    "                tmp.append(j+1)\n",
    "                break\n",
    "            elif j == 0:\n",
    "                tmp.append(0)\n",
    "    for i in reversed(tmp):\n",
    "        answer.append(i)        \n",
    "        \n",
    "    return answer"
   ]
  },
  {
   "cell_type": "markdown",
   "metadata": {},
   "source": [
    "## 전화번호 목록\n",
    "\n",
    "* 전화번호부에 적힌 전화번호 중, 한 번호가 다른 번호의 접두어인 경우가 있는지 확인하려 합니다.\n",
    "\n",
    "* 전화번호부에 적힌 전화번호를 담은 배열 phone_book 이 solution 함수의 매개변수로 주어질 때, 어떤 번호가 다른 번호의 접두어인 경우가 있으면 false를 그렇지 않으면 true를 return 하도록 solution 함수를 작성해주세요."
   ]
  },
  {
   "cell_type": "code",
   "execution_count": null,
   "metadata": {},
   "outputs": [],
   "source": [
    "# 미완성\n",
    "def solution(phone_book):\n",
    "    for i in range(len(phone_book)):                                \n",
    "        a = phone_book[i]              \n",
    "        for j in phone_book:                        \n",
    "            if a != j:\n",
    "                if a == j[:len(a)]:\n",
    "                    answer = False     \n",
    "                    break\n",
    "                else:\n",
    "                    answer = True                            \n",
    "        return answer"
   ]
  },
  {
   "cell_type": "markdown",
   "metadata": {},
   "source": [
    "## 위장\n",
    "\n",
    "* 스파이가 가진 의상들이 담긴 2차원 배열 clothes가 주어질 때 서로 다른 옷의 조합의 수를 return 하도록 solution 함수를 작성해주세요."
   ]
  },
  {
   "cell_type": "code",
   "execution_count": null,
   "metadata": {},
   "outputs": [],
   "source": [
    "# def solution(clothes):\n",
    "#     answer = 0    \n",
    "#     closet = []\n",
    "#     for i in clothes:\n",
    "#         closet.append(i[0])\n",
    "#         for j in clothes:                        \n",
    "#             if i < j and i[1] != j[1]:\n",
    "#                 closet.append(i[0])    \n",
    "#     print(closet)\n",
    "#     answer = int(len(closet))          \n",
    "#     return answer"
   ]
  },
  {
   "cell_type": "markdown",
   "metadata": {},
   "source": [
    "## 최솟값 만들기\n",
    "\n",
    "* 길이가 같은 배열 A, B 두개가 있습니다. 각 배열은 자연수로 이루어져 있습니다. \n",
    "* 배열 A, B에서 각각 한 개의 숫자를 뽑아 두 수를 곱합니다. 이러한 과정을 배열의 길이만큼 반복하며, 두 수를 곱한 값을 누적하여 더합니다. 이때 최종적으로 누적된 값이 최소가 되도록 만드는 것이 목표입니다. (단, 각 배열에서 k번째 숫자를 뽑았다면 다음에 k번째 숫자는 다시 뽑을 수 없습니다.)"
   ]
  },
  {
   "cell_type": "code",
   "execution_count": null,
   "metadata": {},
   "outputs": [],
   "source": [
    "def solution(A,B):\n",
    "    answer = 0\n",
    "    for i in range(len(A)):\n",
    "        answer += A.pop(A.index(max(A)))*B.pop(B.index(min(B)))\n",
    "    return answer\n",
    "\n",
    "# 효율적? Programmers 내 답.\n",
    "def solution(A,B):\n",
    "    answer = 0\n",
    "    a = sorted(A)\n",
    "    b = sorted(B, reverse = True)\n",
    "    for i in range(len(A)):\n",
    "        answer += a.pop(0)*b.pop(0)\n",
    "    return answer"
   ]
  },
  {
   "cell_type": "markdown",
   "metadata": {},
   "source": [
    "## 피보나치 수\n",
    "\n",
    "* 피보나치 수는 F(0) = 0, F(1) = 1일 때, 1 이상의 n에 대하여 F(n) = F(n-1) + F(n-2) 가 적용되는 수 입니다.\n",
    "\n",
    "* 예를들어\n",
    "F(2) = F(0) + F(1) = 0 + 1 = 1\n",
    "F(3) = F(1) + F(2) = 1 + 1 = 2\n",
    "F(4) = F(2) + F(3) = 1 + 2 = 3\n",
    "F(5) = F(3) + F(4) = 2 + 3 = 5\n",
    "와 같이 이어집니다.\n",
    "\n",
    "* 2 이상의 n이 입력되었을 때, n번째 피보나치 수를 1234567으로 나눈 나머지를 리턴하는 함수, solution을 완성해 주세요."
   ]
  },
  {
   "cell_type": "code",
   "execution_count": null,
   "metadata": {},
   "outputs": [],
   "source": [
    "# Programmers 내 답.\n",
    "def solution(n):\n",
    "    answer = 0\n",
    "    a = 0\n",
    "    b = 1\n",
    "    for i in range(n-1):\n",
    "        c = a + b\n",
    "        a = b        \n",
    "        b = c\n",
    "        answer = c%1234567\n",
    "    return answer"
   ]
  },
  {
   "cell_type": "markdown",
   "metadata": {},
   "source": [
    "## 행렬의 곱셈\n",
    "\n",
    "* 2차원 행렬 arr1과 arr2를 입력받아, arr1에 arr2를 곱한 결과를 반환하는 함수, solution을 완성해주세요."
   ]
  },
  {
   "cell_type": "code",
   "execution_count": null,
   "metadata": {},
   "outputs": [],
   "source": [
    "# 미완성\n",
    "def solution(arr1, arr2):\n",
    "    answer = []    \n",
    "    for i in arr1:\n",
    "        li = []                \n",
    "        for j in range(len(arr2)):            \n",
    "            b = 0\n",
    "            for k in range(len(arr1[0])):                \n",
    "                a = i[k] * arr2[k][j]\n",
    "                b += a                \n",
    "            li.append(b)\n",
    "        answer.append(li)\n",
    "        # answer = [[b for k in range(len(arr2))] for j in range(len(arr2))]\n",
    "    return answer"
   ]
  },
  {
   "cell_type": "code",
   "execution_count": null,
   "metadata": {},
   "outputs": [],
   "source": []
  },
  {
   "cell_type": "code",
   "execution_count": null,
   "metadata": {},
   "outputs": [],
   "source": []
  }
 ],
 "metadata": {
  "kernelspec": {
   "display_name": "Python 3",
   "language": "python",
   "name": "python3"
  },
  "language_info": {
   "codemirror_mode": {
    "name": "ipython",
    "version": 3
   },
   "file_extension": ".py",
   "mimetype": "text/x-python",
   "name": "python",
   "nbconvert_exporter": "python",
   "pygments_lexer": "ipython3",
   "version": "3.7.4"
  }
 },
 "nbformat": 4,
 "nbformat_minor": 2
}
