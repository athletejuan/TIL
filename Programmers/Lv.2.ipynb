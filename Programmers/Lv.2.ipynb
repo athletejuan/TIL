{
 "cells": [
  {
   "cell_type": "markdown",
   "metadata": {},
   "source": [
    "## 124 나라의 숫자\n",
    "\n",
    "1. 124 나라에는 자연수만 존재합니다.\n",
    "2. 124 나라에는 모든 수를 표현할 때 1, 2, 4만 사용합니다."
   ]
  },
  {
   "cell_type": "code",
   "execution_count": null,
   "metadata": {},
   "outputs": [],
   "source": [
    "def solution(n):\n",
    "    answer = ''\n",
    "    num_dict = {1:'1', 2:'2', 0:'4'}\n",
    "    mok = 1\n",
    "    na = 1\n",
    "    \n",
    "    while mok != 0:\n",
    "        mok = n//3\n",
    "        na = n%3\n",
    "        if na == 0:\n",
    "            mok -= 1\n",
    "    \n",
    "    n = mok\n",
    "    answer = num_dict[na] + answer\n",
    "    \n",
    "    return answer\n",
    "\n",
    "print(solution(n))"
   ]
  },
  {
   "cell_type": "markdown",
   "metadata": {},
   "source": [
    "## 프린터\n",
    "\n",
    "1. 인쇄 대기목록의 가장 앞에 있는 문서(J)를 대기목록에서 꺼냅니다.\n",
    "2. 나머지 인쇄 대기목록에서 J보다 중요도가 높은 문서가 한 개라도 존재하면 J를 대기목록의 가장 마지막에 넣습니다.\n",
    "3. 그렇지 않으면 J를 인쇄합니다."
   ]
  },
  {
   "cell_type": "code",
   "execution_count": null,
   "metadata": {},
   "outputs": [],
   "source": [
    "def solution(priorities, location):\n",
    "    answer = 0\n",
    "    # 인쇄 대기목록이 남아있다면 반복\n",
    "    while len(priorities) != 0:\n",
    "        # 1. 대기목록의 가장 앞에있는 문서가 나머지 문서들보다 중요도가 높은 경우\n",
    "        if priorities[0] == max(priorities):\n",
    "            answer += 1\n",
    "            priorities.pop(0) # 먼저 인쇄 == 가장 앞에있는 것 삭제\n",
    "            if location == 0:\n",
    "                return answer\n",
    "            else:\n",
    "                location -= 1\n",
    "        #2. 대기목록의 가장 앞에있는 문서가 중요도가 가장 높지 않은 경우\n",
    "        else :\n",
    "            priorities.append(priorities.pop(0)) #문서를 대기목록 맨 뒤로 이동\n",
    "            if location == 0:\n",
    "                location = len(priorities) - 1\n",
    "            else :\n",
    "                location -= 1\n",
    "    return answer\n",
    "\n",
    "# 좀더 상식적인 프린터\n",
    "# def solution(priorities, location):\n",
    "#     answer = 1\n",
    "#     n = priorities[int(location)]\n",
    "#     resort = sorted(priorities, reverse = True)    \n",
    "#     for i in resort:\n",
    "#         if i != n:\n",
    "#             answer += 1\n",
    "#         else:     \n",
    "#             return answer"
   ]
  },
  {
   "cell_type": "markdown",
   "metadata": {},
   "source": [
    "# 탑\n",
    "\n",
    "* 수평 직선에 탑 N대를 세웠습니다. 모든 탑의 꼭대기에는 신호를 송/수신하는 장치를 설치했습니다. 발사한 신호는 신호를 보낸 탑보다 높은 탑에서만 수신합니다. 또한, 한 번 수신된 신호는 다른 탑으로 송신되지 않습니다.\n",
    "\n",
    "* 예를 들어 높이가 6, 9, 5, 7, 4인 다섯 탑이 왼쪽으로 동시에 레이저 신호를 발사합니다. 그러면, 탑은 다음과 같이 신호를 주고받습니다. 높이가 4인 다섯 번째 탑에서 발사한 신호는 높이가 7인 네 번째 탑이 수신하고, 높이가 7인 네 번째 탑의 신호는 높이가 9인 두 번째 탑이, 높이가 5인 세 번째 탑의 신호도 높이가 9인 두 번째 탑이 수신합니다. 높이가 9인 두 번째 탑과 높이가 6인 첫 번째 탑이 보낸 레이저 신호는 어떤 탑에서도 수신할 수 없습니다."
   ]
  },
  {
   "cell_type": "code",
   "execution_count": null,
   "metadata": {},
   "outputs": [],
   "source": [
    "def solution(heights):\n",
    "    answer = [0]\n",
    "    tmp = []\n",
    "    for i in range(len(heights)-1, 0, -1): # 역순\n",
    "        for j in range(i-1, -1, -1):\n",
    "            if heights[i] < heights[j]:\n",
    "                tmp.append(j+1)\n",
    "                break\n",
    "            elif j == 0:\n",
    "                tmp.append(0)\n",
    "    for i in reversed(tmp):\n",
    "        answer.append(i)        \n",
    "        \n",
    "    return answer"
   ]
  },
  {
   "cell_type": "code",
   "execution_count": null,
   "metadata": {},
   "outputs": [],
   "source": []
  },
  {
   "cell_type": "code",
   "execution_count": null,
   "metadata": {},
   "outputs": [],
   "source": []
  },
  {
   "cell_type": "code",
   "execution_count": null,
   "metadata": {},
   "outputs": [],
   "source": []
  },
  {
   "cell_type": "code",
   "execution_count": null,
   "metadata": {},
   "outputs": [],
   "source": []
  },
  {
   "cell_type": "code",
   "execution_count": null,
   "metadata": {},
   "outputs": [],
   "source": []
  },
  {
   "cell_type": "code",
   "execution_count": null,
   "metadata": {},
   "outputs": [],
   "source": []
  }
 ],
 "metadata": {
  "kernelspec": {
   "display_name": "Python 3",
   "language": "python",
   "name": "python3"
  },
  "language_info": {
   "codemirror_mode": {
    "name": "ipython",
    "version": 3
   },
   "file_extension": ".py",
   "mimetype": "text/x-python",
   "name": "python",
   "nbconvert_exporter": "python",
   "pygments_lexer": "ipython3",
   "version": "3.7.4"
  }
 },
 "nbformat": 4,
 "nbformat_minor": 2
}
